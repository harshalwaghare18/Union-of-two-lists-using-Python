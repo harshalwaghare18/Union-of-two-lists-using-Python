{
 "cells": [
  {
   "cell_type": "markdown",
   "id": "3185d0e3",
   "metadata": {},
   "source": [
    "# Program to find the union of two lists."
   ]
  },
  {
   "cell_type": "markdown",
   "id": "5dd3a603",
   "metadata": {},
   "source": [
    "**Program Logic**\n",
    "1. Input the two list\n",
    "2. Apply Different methods to concatenate the list.\n",
    "3. Print the concatennated list\n"
   ]
  },
  {
   "cell_type": "markdown",
   "id": "1fd9c949",
   "metadata": {},
   "source": [
    "## Create Frist List"
   ]
  },
  {
   "cell_type": "code",
   "execution_count": 1,
   "id": "0513fa52",
   "metadata": {},
   "outputs": [
    {
     "name": "stdout",
     "output_type": "stream",
     "text": [
      "Enter the number of element for list1 : 4\n",
      "Enter the element of List1 :56\n",
      "Enter the element of List1 :85\n",
      "Enter the element of List1 :23\n",
      "Enter the element of List1 :64\n",
      "Element of List1 = ['56', '85', '23', '64']\n"
     ]
    }
   ],
   "source": [
    "l1 = []\n",
    "size1 = int(input(\"Enter the number of element for list1 : \"))\n",
    "\n",
    "for i in range(size1):\n",
    "    num1 = input(\"Enter the element of List1 :\")\n",
    "    l1.append(num1)\n",
    "    \n",
    "print(\"Element of List1 =\",l1)"
   ]
  },
  {
   "cell_type": "markdown",
   "id": "f52887a7",
   "metadata": {},
   "source": [
    "## Create Second list\n"
   ]
  },
  {
   "cell_type": "code",
   "execution_count": 4,
   "id": "89936858",
   "metadata": {},
   "outputs": [
    {
     "name": "stdout",
     "output_type": "stream",
     "text": [
      "Enter the number of element for list2 : 4\n",
      "Enter the element of List2 :6\n",
      "Enter the element of List2 :3\n",
      "Enter the element of List2 :5\n",
      "Enter the element of List2 :8\n",
      "Element of List1 = ['6', '3', '5', '8']\n"
     ]
    }
   ],
   "source": [
    "l2 = []\n",
    "size2 = int(input(\"Enter the number of element for list2 : \"))\n",
    "\n",
    "for i in range(size2):\n",
    "    num2 = input(\"Enter the element of List2 :\")\n",
    "    l2.append(num2)\n",
    "\n",
    "print(\"Element of List1 =\",l2)"
   ]
  },
  {
   "cell_type": "markdown",
   "id": "d66ad431",
   "metadata": {},
   "source": [
    "## Method of Concatenate two list\n"
   ]
  },
  {
   "cell_type": "markdown",
   "id": "0305d6ae",
   "metadata": {},
   "source": [
    "### Method 1 : Using + Operator"
   ]
  },
  {
   "cell_type": "code",
   "execution_count": 3,
   "id": "33cf8728",
   "metadata": {},
   "outputs": [
    {
     "name": "stdout",
     "output_type": "stream",
     "text": [
      "List 1 = ['56', '85', '23', '64']\n",
      "List 2 = ['1', '6', '8', '3', '4']\n",
      "Concatenated List = ['56', '85', '23', '64', '1', '6', '8', '3', '4']\n"
     ]
    }
   ],
   "source": [
    "joined_list1 = l1 + l2\n",
    "print(\"List 1 =\",l1)\n",
    "print(\"List 2 =\",l2)\n",
    "print(\"Concatenated List =\",joined_list1)"
   ]
  },
  {
   "cell_type": "markdown",
   "id": "8790a779",
   "metadata": {},
   "source": [
    "### Method 2 : Using * Operator"
   ]
  },
  {
   "cell_type": "code",
   "execution_count": 5,
   "id": "a7126fde",
   "metadata": {},
   "outputs": [
    {
     "name": "stdout",
     "output_type": "stream",
     "text": [
      "The concatenated list of 1 : ['56', '85', '23', '64'] and list 2 ['6', '3', '5', '8'] is ['56', '85', '23', '64', '6', '3', '5', '8']\n"
     ]
    }
   ],
   "source": [
    "joined_list2 = [*l1, *l2]\n",
    "print(\"The concatenated list of 1 : {} and list 2 {} is {}\".format(l1,l2,joined_list2))"
   ]
  },
  {
   "cell_type": "markdown",
   "id": "8a0792b3",
   "metadata": {},
   "source": [
    "### Method 3 : Union of two list using set()"
   ]
  },
  {
   "cell_type": "code",
   "execution_count": 6,
   "id": "8872c7f7",
   "metadata": {},
   "outputs": [
    {
     "name": "stdout",
     "output_type": "stream",
     "text": [
      "The Union list of 1 : ['56', '85', '23', '64'] and list 2 ['6', '3', '5', '8'] is ['8', '23', '6', '3', '5', '64', '85', '56']\n"
     ]
    }
   ],
   "source": [
    "joined_list3 = list(set(l1+l2))\n",
    "print(\"The Union list of 1 : {} and list 2 {} is {}\".format(l1,l2,joined_list3))\n"
   ]
  },
  {
   "cell_type": "markdown",
   "id": "669e67f6",
   "metadata": {},
   "source": [
    "### Method 4 : Using itertools.chain()"
   ]
  },
  {
   "cell_type": "code",
   "execution_count": 7,
   "id": "ff02af9e",
   "metadata": {},
   "outputs": [
    {
     "name": "stdout",
     "output_type": "stream",
     "text": [
      "The concatenated list of 1 : ['56', '85', '23', '64'] and list 2 : ['6', '3', '5', '8'] is ['56', '85', '23', '64', '6', '3', '5', '8']\n"
     ]
    }
   ],
   "source": [
    "import itertools\n",
    "joined_list4 = list(itertools.chain(l1,l2))\n",
    "print(\"The concatenated list of 1 : {} and list 2 : {} is {}\".format(l1,l2,joined_list4\n",
    "))\n"
   ]
  },
  {
   "cell_type": "markdown",
   "id": "42779696",
   "metadata": {},
   "source": [
    "### Method 5 : Using Extend Method"
   ]
  },
  {
   "cell_type": "code",
   "execution_count": 8,
   "id": "80617126",
   "metadata": {},
   "outputs": [
    {
     "name": "stdout",
     "output_type": "stream",
     "text": [
      "Concatenated list of l1 and l2 = ['6', '3', '5', '8', '56', '85', '23', '64']\n"
     ]
    }
   ],
   "source": [
    "l2.extend(l1)\n",
    "print(\"Concatenated list of l1 and l2 =\", l2)"
   ]
  },
  {
   "cell_type": "markdown",
   "id": "83007072",
   "metadata": {},
   "source": [
    "### Method 6 : Using append ()"
   ]
  },
  {
   "cell_type": "code",
   "execution_count": 9,
   "id": "a92af500",
   "metadata": {},
   "outputs": [
    {
     "name": "stdout",
     "output_type": "stream",
     "text": [
      "Concatenated list of l1 and l2 = ['56', '85', '23', '64', '6', '3', '5', '8', '56', '85', '23', '64']\n"
     ]
    }
   ],
   "source": [
    "for i in l2 :\n",
    "    l1.append(i)\n",
    "print(\"Concatenated list of l1 and l2 =\", l1)"
   ]
  }
 ],
 "metadata": {
  "kernelspec": {
   "display_name": "Python 3 (ipykernel)",
   "language": "python",
   "name": "python3"
  },
  "language_info": {
   "codemirror_mode": {
    "name": "ipython",
    "version": 3
   },
   "file_extension": ".py",
   "mimetype": "text/x-python",
   "name": "python",
   "nbconvert_exporter": "python",
   "pygments_lexer": "ipython3",
   "version": "3.10.0"
  }
 },
 "nbformat": 4,
 "nbformat_minor": 5
}
